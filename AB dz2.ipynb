{
 "cells": [
  {
   "cell_type": "markdown",
   "id": "93a7a815",
   "metadata": {},
   "source": [
    "# ДЗ 1:\n",
    "\n",
    "### Дизайн теста\n",
    "1) Из interactions взять данные за 2 последние недели (2021-08-09 по 2021-08-22)\n",
    "\n",
    "2) Посчитайте на этих данных корректность на бутстрепе и сравните ее с результатами за 1 неделю (посчитано на семинаре) (0.5 балла)\n",
    "\n",
    "3) На двух неделях посчитайте мощность. Для этого нужно в одну из групп докинуть эффект. Докиньте эффект в 1%, 3% и 5% и сравните полученную мощность (1.5 балла)\n",
    "\n",
    "4) Посчитайте MDE, который можно зафиксировать на 2х неделях. В качестве alpha и beta подставьте ваши вычисленные ошибки 1 и 2 рода. Учитывайте что у нас формула для MDE работает для t-test или z-test (1 балл)\n",
    "\n",
    "### A/B тест\n",
    "1) Представим что у нас прошел тест, используем те же самые данные за 2 недели\n",
    "\n",
    "2) Занулите для всех пользователей total_dur, у которых total_dur < 500. Их НЕ УБИРАЕМ, а просто обрабатываем эти значения, принимая за нулевые, но пользователей также учитываем в эксперименте (0.5 балла)\n",
    "\n",
    "3) Разбейте их самостоятельно на две равные группы, используйте функцию groups_splitter и соль = 'kiontestmodel20210805' (0.5 балла)\n",
    "\n",
    "4) Оказалось, что модель в группе В показала себя лучше, чем в группе А на 2.5%, причем эффект распространился неравномерно и преимущественно на 10% самых смотрящих пользователей, докиньте такой эффект самостоятельно. Нужно метрику total_dur увеличить на 2.5% для 10% пользователей с самым продолжительным смотрением. (1 балл)\n",
    "\n",
    "5) Посчитайте результат такого теста и сделайте выводы (2 балла)\n",
    "\n",
    "Еще 1 балл можно получить за хорошее и подробное объяснение каждого шага "
   ]
  },
  {
   "cell_type": "code",
   "execution_count": 4,
   "id": "bcd1bccf",
   "metadata": {},
   "outputs": [
    {
     "name": "stderr",
     "output_type": "stream",
     "text": [
      "/var/folders/06/5ck3wffn2f51181ns_qvff0r0000gq/T/ipykernel_3843/1381825117.py:21: FutureWarning: Passing a negative integer is deprecated in version 1.0 and will not be supported in future version. Instead, use None to not limit the column width.\n",
      "  pd.set_option('display.max_colwidth', -1)\n"
     ]
    }
   ],
   "source": [
    "import numpy as np\n",
    "import scipy\n",
    "import matplotlib.pyplot as plt\n",
    "import scipy.stats as stats\n",
    "import statsmodels\n",
    "import statsmodels.sandbox.stats.multicomp\n",
    "import pandas as pd\n",
    "import datetime\n",
    "from statsmodels.stats.weightstats import ztest\n",
    "from scipy.stats import norm\n",
    "\n",
    "import matplotlib.pyplot as plt\n",
    "import seaborn as sns\n",
    "\n",
    "from tqdm import tqdm\n",
    "from sklearn.utils import shuffle\n",
    "import hashlib\n",
    "from base64 import b64encode\n",
    "import collections\n",
    "\n",
    "pd.set_option('display.max_colwidth', -1)\n",
    "pd.set_option('display.max_columns', 1000)\n",
    "pd.set_option('display.max_rows', 20000)"
   ]
  },
  {
   "cell_type": "code",
   "execution_count": 165,
   "id": "2c7c775d",
   "metadata": {},
   "outputs": [],
   "source": [
    "import requests\n",
    "\n",
    "# download dataset by chunks\n",
    "url = \"https://github.com/sharthZ23/your-second-recsys/raw/master/data_kion.zip\"\n",
    "\n",
    "req = requests.get(url, stream=True)\n",
    "\n",
    "with open('data_kion.zip', \"wb\") as fd:\n",
    "    total_size_in_bytes = int(req.headers.get('Content-Length', 0))\n",
    "    progress_bar = tqdm(desc='kion dataset download', total=total_size_in_bytes, unit='iB', \n",
    "                        unit_scale=True, position=0, leave=True)\n",
    "    for chunk in req.iter_content(chunk_size=2 ** 20):\n",
    "        progress_bar.update(len(chunk))\n",
    "        fd.write(chunk)"
   ]
  },
  {
   "cell_type": "code",
   "execution_count": 38,
   "id": "b5819ba3",
   "metadata": {},
   "outputs": [],
   "source": [
    "# Распаковываем архив из 3 файлов\n",
    "import zipfile\n",
    " \n",
    "with zipfile.ZipFile('data_kion.zip', 'r') as zip_ref:\n",
    "    zip_ref.extractall()"
   ]
  },
  {
   "cell_type": "code",
   "execution_count": 39,
   "id": "cb36b924",
   "metadata": {},
   "outputs": [],
   "source": [
    "interactions = pd.read_csv('data_kion/interactions_df.csv')\n",
    "users = pd.read_csv('data_kion/users.csv')\n",
    "items = pd.read_csv('data_kion/items.csv')"
   ]
  },
  {
   "cell_type": "code",
   "execution_count": 40,
   "id": "0ad1a26c",
   "metadata": {},
   "outputs": [
    {
     "data": {
      "text/html": [
       "<div>\n",
       "<style scoped>\n",
       "    .dataframe tbody tr th:only-of-type {\n",
       "        vertical-align: middle;\n",
       "    }\n",
       "\n",
       "    .dataframe tbody tr th {\n",
       "        vertical-align: top;\n",
       "    }\n",
       "\n",
       "    .dataframe thead th {\n",
       "        text-align: right;\n",
       "    }\n",
       "</style>\n",
       "<table border=\"1\" class=\"dataframe\">\n",
       "  <thead>\n",
       "    <tr style=\"text-align: right;\">\n",
       "      <th></th>\n",
       "      <th>user_id</th>\n",
       "      <th>item_id</th>\n",
       "      <th>last_watch_dt</th>\n",
       "      <th>total_dur</th>\n",
       "      <th>watched_pct</th>\n",
       "    </tr>\n",
       "  </thead>\n",
       "  <tbody>\n",
       "    <tr>\n",
       "      <th>0</th>\n",
       "      <td>176549</td>\n",
       "      <td>9506</td>\n",
       "      <td>2021-05-11</td>\n",
       "      <td>4250</td>\n",
       "      <td>72.0</td>\n",
       "    </tr>\n",
       "    <tr>\n",
       "      <th>1</th>\n",
       "      <td>699317</td>\n",
       "      <td>1659</td>\n",
       "      <td>2021-05-29</td>\n",
       "      <td>8317</td>\n",
       "      <td>100.0</td>\n",
       "    </tr>\n",
       "    <tr>\n",
       "      <th>2</th>\n",
       "      <td>656683</td>\n",
       "      <td>7107</td>\n",
       "      <td>2021-05-09</td>\n",
       "      <td>10</td>\n",
       "      <td>0.0</td>\n",
       "    </tr>\n",
       "    <tr>\n",
       "      <th>3</th>\n",
       "      <td>864613</td>\n",
       "      <td>7638</td>\n",
       "      <td>2021-07-05</td>\n",
       "      <td>14483</td>\n",
       "      <td>100.0</td>\n",
       "    </tr>\n",
       "    <tr>\n",
       "      <th>4</th>\n",
       "      <td>964868</td>\n",
       "      <td>9506</td>\n",
       "      <td>2021-04-30</td>\n",
       "      <td>6725</td>\n",
       "      <td>100.0</td>\n",
       "    </tr>\n",
       "  </tbody>\n",
       "</table>\n",
       "</div>"
      ],
      "text/plain": [
       "   user_id  item_id last_watch_dt  total_dur  watched_pct\n",
       "0  176549   9506     2021-05-11    4250       72.0       \n",
       "1  699317   1659     2021-05-29    8317       100.0      \n",
       "2  656683   7107     2021-05-09    10         0.0        \n",
       "3  864613   7638     2021-07-05    14483      100.0      \n",
       "4  964868   9506     2021-04-30    6725       100.0      "
      ]
     },
     "execution_count": 40,
     "metadata": {},
     "output_type": "execute_result"
    }
   ],
   "source": [
    "interactions.head(5)\n",
    "\n",
    "# user_id - уникальный идентификатор пользователя\n",
    "# item_id - уникальный идентификатор контента\n",
    "# last_watch_dt - последняя дата просмотра юзером определенного контента\n",
    "# total_dur - суммарная продолжительность просмотра определенного контента юзером (в секундах)\n",
    "# watched_pct - процент просмотренного контента от общей продолжительности"
   ]
  },
  {
   "cell_type": "code",
   "execution_count": 41,
   "id": "e20a559e",
   "metadata": {},
   "outputs": [
    {
     "name": "stdout",
     "output_type": "stream",
     "text": [
      "Уникальных юзеров в interactions: 962_179\n",
      "Уникальных айтемов в interactions: 15_706\n"
     ]
    }
   ],
   "source": [
    "# предобработка данных\n",
    "interactions['last_watch_dt'] = pd.to_datetime(interactions['last_watch_dt']).map(lambda x: x.date())\n",
    "interactions['user_id'] = interactions['user_id'].astype(str)\n",
    "\n",
    "print(f\"Уникальных юзеров в interactions: {interactions['user_id'].nunique():_}\")\n",
    "print(f\"Уникальных айтемов в interactions: {interactions['item_id'].nunique():_}\")"
   ]
  },
  {
   "cell_type": "markdown",
   "id": "f3c1a0ed",
   "metadata": {},
   "source": [
    "#### 1) Из interactions взять данные за 2 последние недели (2021-08-09 по 2021-08-22)"
   ]
  },
  {
   "cell_type": "code",
   "execution_count": 42,
   "id": "08fdd615",
   "metadata": {
    "scrolled": false
   },
   "outputs": [
    {
     "data": {
      "text/plain": [
       "datetime.date(2021, 8, 22)"
      ]
     },
     "execution_count": 42,
     "metadata": {},
     "output_type": "execute_result"
    }
   ],
   "source": [
    "max_date = interactions['last_watch_dt'].max()\n",
    "max_date"
   ]
  },
  {
   "cell_type": "code",
   "execution_count": 43,
   "id": "6e5813ca",
   "metadata": {
    "scrolled": true
   },
   "outputs": [],
   "source": [
    "week2 = interactions[interactions['last_watch_dt'] >= max_date - datetime.timedelta(days=13)]\n",
    "week2 = week2.groupby('user_id', as_index=False).agg({'total_dur': sum})"
   ]
  },
  {
   "cell_type": "code",
   "execution_count": 44,
   "id": "28e01de0",
   "metadata": {},
   "outputs": [
    {
     "data": {
      "text/html": [
       "<div>\n",
       "<style scoped>\n",
       "    .dataframe tbody tr th:only-of-type {\n",
       "        vertical-align: middle;\n",
       "    }\n",
       "\n",
       "    .dataframe tbody tr th {\n",
       "        vertical-align: top;\n",
       "    }\n",
       "\n",
       "    .dataframe thead th {\n",
       "        text-align: right;\n",
       "    }\n",
       "</style>\n",
       "<table border=\"1\" class=\"dataframe\">\n",
       "  <thead>\n",
       "    <tr style=\"text-align: right;\">\n",
       "      <th></th>\n",
       "      <th>user_id</th>\n",
       "      <th>total_dur</th>\n",
       "    </tr>\n",
       "  </thead>\n",
       "  <tbody>\n",
       "    <tr>\n",
       "      <th>0</th>\n",
       "      <td>1</td>\n",
       "      <td>21172</td>\n",
       "    </tr>\n",
       "    <tr>\n",
       "      <th>1</th>\n",
       "      <td>1000</td>\n",
       "      <td>10744</td>\n",
       "    </tr>\n",
       "    <tr>\n",
       "      <th>2</th>\n",
       "      <td>1000000</td>\n",
       "      <td>32990</td>\n",
       "    </tr>\n",
       "    <tr>\n",
       "      <th>3</th>\n",
       "      <td>1000001</td>\n",
       "      <td>52</td>\n",
       "    </tr>\n",
       "    <tr>\n",
       "      <th>4</th>\n",
       "      <td>1000003</td>\n",
       "      <td>625</td>\n",
       "    </tr>\n",
       "    <tr>\n",
       "      <th>...</th>\n",
       "      <td>...</td>\n",
       "      <td>...</td>\n",
       "    </tr>\n",
       "    <tr>\n",
       "      <th>266076</th>\n",
       "      <td>999978</td>\n",
       "      <td>11172</td>\n",
       "    </tr>\n",
       "    <tr>\n",
       "      <th>266077</th>\n",
       "      <td>999987</td>\n",
       "      <td>27888</td>\n",
       "    </tr>\n",
       "    <tr>\n",
       "      <th>266078</th>\n",
       "      <td>999989</td>\n",
       "      <td>4563</td>\n",
       "    </tr>\n",
       "    <tr>\n",
       "      <th>266079</th>\n",
       "      <td>999990</td>\n",
       "      <td>997</td>\n",
       "    </tr>\n",
       "    <tr>\n",
       "      <th>266080</th>\n",
       "      <td>999993</td>\n",
       "      <td>17228</td>\n",
       "    </tr>\n",
       "  </tbody>\n",
       "</table>\n",
       "<p>266081 rows × 2 columns</p>\n",
       "</div>"
      ],
      "text/plain": [
       "        user_id  total_dur\n",
       "0       1        21172    \n",
       "1       1000     10744    \n",
       "2       1000000  32990    \n",
       "3       1000001  52       \n",
       "4       1000003  625      \n",
       "...         ...  ...      \n",
       "266076  999978   11172    \n",
       "266077  999987   27888    \n",
       "266078  999989   4563     \n",
       "266079  999990   997      \n",
       "266080  999993   17228    \n",
       "\n",
       "[266081 rows x 2 columns]"
      ]
     },
     "execution_count": 44,
     "metadata": {},
     "output_type": "execute_result"
    }
   ],
   "source": [
    "week2"
   ]
  },
  {
   "cell_type": "code",
   "execution_count": 45,
   "id": "ed4cfd72",
   "metadata": {},
   "outputs": [
    {
     "name": "stderr",
     "output_type": "stream",
     "text": [
      "/Users/victorbarbarich/opt/anaconda3/lib/python3.9/site-packages/seaborn/_decorators.py:36: FutureWarning: Pass the following variable as a keyword arg: x. From version 0.12, the only valid positional argument will be `data`, and passing other arguments without an explicit keyword will result in an error or misinterpretation.\n",
      "  warnings.warn(\n"
     ]
    },
    {
     "data": {
      "text/plain": [
       "<AxesSubplot:>"
      ]
     },
     "execution_count": 45,
     "metadata": {},
     "output_type": "execute_result"
    },
    {
     "data": {
      "image/png": "[encoded data removed]",
      "text/plain": [
       "<Figure size 432x288 with 1 Axes>"
      ]
     },
     "metadata": {
      "needs_background": "light"
     },
     "output_type": "display_data"
    }
   ],
   "source": [
    "sns.boxplot(week2['total_dur'].values, fliersize=3)"
   ]
  },
  {
   "cell_type": "code",
   "execution_count": 46,
   "id": "1876d0d5",
   "metadata": {
    "scrolled": true
   },
   "outputs": [
    {
     "name": "stdout",
     "output_type": "stream",
     "text": [
      "(266081, 2)\n",
      "(262794, 2)\n"
     ]
    }
   ],
   "source": [
    "print(week2.shape)\n",
    "week2 = week2[(week2['total_dur'] < week2['total_dur'].std() * 3)]\n",
    "print(week2.shape)"
   ]
  },
  {
   "cell_type": "code",
   "execution_count": 47,
   "id": "7fef9883",
   "metadata": {},
   "outputs": [
    {
     "data": {
      "image/png": "[encoded data removed]",
      "text/plain": [
       "<Figure size 504x504 with 1 Axes>"
      ]
     },
     "metadata": {
      "needs_background": "light"
     },
     "output_type": "display_data"
    }
   ],
   "source": [
    "week2['total_dur'].hist(bins=100, figsize=(7,7))\n",
    "plt.ylim([0, 10000])\n",
    "plt.grid(False)"
   ]
  },
  {
   "cell_type": "markdown",
   "id": "963cb554",
   "metadata": {},
   "source": [
    "#### 2) Посчитайте на этих данных корректность на бутстрепе и сравните ее с результатами за 1 неделю (посчитано на семинаре) (0.5 балла)\n"
   ]
  },
  {
   "cell_type": "code",
   "execution_count": 48,
   "id": "6fe0b5ef",
   "metadata": {},
   "outputs": [],
   "source": [
    "def salt_generator(salt=None):\n",
    "    import os\n",
    "    from base64 import b64encode\n",
    "    salt = os.urandom(8)\n",
    "    \n",
    "    return b64encode(salt).decode('ascii')\n",
    "\n",
    "\n",
    "def get_bootstrap_array(arr):\n",
    "    return np.random.choice(arr, replace=True, size=len(arr))\n",
    "\n",
    "\n",
    "def calc_bootstrap_mean(arr, size=1000):\n",
    "    result = np.empty(size)\n",
    "    for i in range(size):\n",
    "        result[i] = np.mean(get_bootstrap_array(arr))\n",
    "    return result\n",
    "\n",
    "def get_p_value(dist):\n",
    "    dist = np.array(dist)\n",
    "    x = (dist > 0).mean()\n",
    "    pvalue = min(x, 1 - x) * 2\n",
    "    return pvalue"
   ]
  },
  {
   "cell_type": "code",
   "execution_count": 49,
   "id": "a0890fd3",
   "metadata": {},
   "outputs": [],
   "source": [
    "# Делим на 2 равные группы \n",
    "def groups_splitter(df, columns, user_salt=None):\n",
    "    \n",
    "    if user_salt == None:\n",
    "        salt = salt_generator()\n",
    "    else:\n",
    "        salt = user_salt\n",
    "    \n",
    "    df['hash'] = ((df['user_id'].astype(str)) + '#' + salt).apply(lambda x: hashlib.sha256(x.encode('utf-8')).hexdigest())\n",
    "\n",
    "    df['group'] = ((df['hash'].str.slice(start=-6).apply(int, base=16) % 2).map(lambda x: 'A' if x == 0 else 'B'))\n",
    "\n",
    "    return df[columns].drop_duplicates()"
   ]
  },
  {
   "cell_type": "code",
   "execution_count": 176,
   "id": "ce871423",
   "metadata": {},
   "outputs": [
    {
     "name": "stderr",
     "output_type": "stream",
     "text": [
      "100%|█████████████████████████████████████| 1000/1000 [1:30:29<00:00,  5.43s/it]"
     ]
    },
    {
     "name": "stdout",
     "output_type": "stream",
     "text": [
      "significance: 5.1%\n"
     ]
    },
    {
     "name": "stderr",
     "output_type": "stream",
     "text": [
      "\n"
     ]
    }
   ],
   "source": [
    "correctness = []\n",
    "values = []\n",
    "\n",
    "for i in tqdm(range(1000), position=0, leave=True): # в дз используем 1000 итераций \n",
    "    \n",
    "    new_df = groups_splitter(week2.copy(), columns=['user_id', 'total_dur', 'group'], user_salt=salt_generator()).drop_duplicates()\n",
    "\n",
    "    \n",
    "    vec_a = new_df[(new_df['group'] == 'A')]['total_dur']\n",
    "    vec_b = new_df[(new_df['group'] == 'B')]['total_dur']\n",
    "    \n",
    "    #bootstrap\n",
    "    sample_a_mean = calc_bootstrap_mean(vec_a, size=1000) # на бутстрэпе считаем средние для вектора\n",
    "    sample_b_mean = calc_bootstrap_mean(vec_b, size=1000) \n",
    "    values.append(sample_a_mean - sample_b_mean)\n",
    "    \n",
    "    left_side, right_side = np.percentile(sample_a_mean - sample_b_mean, \n",
    "                                                  [100 * 0.05 / 2., 100 * (1 - 0.05 / 2.)]) # считаем 95% доверительный интервал для разницы средних\n",
    "    \n",
    "    correctness.append(not left_side <= 0 <= right_side)\n",
    "    \n",
    "    test_correctness = collections.Counter(correctness)\n",
    "    \n",
    "print(f'significance: {test_correctness[1]/(test_correctness[1] + test_correctness[0])*100}%')"
   ]
  },
  {
   "cell_type": "code",
   "execution_count": 177,
   "id": "953aad8a",
   "metadata": {
    "scrolled": false
   },
   "outputs": [
    {
     "data": {
      "image/png": "[encoded data removed]",
      "text/plain": [
       "<Figure size 432x288 with 1 Axes>"
      ]
     },
     "metadata": {
      "needs_background": "light"
     },
     "output_type": "display_data"
    }
   ],
   "source": [
    "from scipy import stats as sts\n",
    "p_values = [get_p_value(dist) for dist in values]\n",
    "stat, p_value = sts.kstest(p_values, sts.uniform(loc=0.0, scale=1.0).cdf)\n",
    "\n",
    "# f = px.histogram({'p_values': p_values}, x='p_values', \n",
    "#                  title=f'<b>Распределение p-values. Тест на равномерность: pv = {p_value:0.5f}')\n",
    "# f.update_traces(xbins=dict(start=0, end=1))\n",
    "# f.show()\n",
    "\n",
    "plt.hist(p_values, bins=10, color='purple');"
   ]
  },
  {
   "cell_type": "markdown",
   "id": "50fedc91",
   "metadata": {},
   "source": [
    "##### Сравнение: \n",
    "\n",
    "На семинаре:\n",
    "\n",
    "significance: 5.0%\n",
    "В дз:\n",
    "\n",
    "significance: 5.1%\n",
    "тест при добавлении еще одной недели не перестал быть корректным"
   ]
  },
  {
   "cell_type": "markdown",
   "id": "fca258d4",
   "metadata": {},
   "source": [
    "#### 3) На двух неделях посчитайте мощность. Для этого нужно в одну из групп докинуть эффект. Докиньте эффект в 1%, 3% и 5% и сравните полученную мощность (1.5 балла)\n"
   ]
  },
  {
   "cell_type": "code",
   "execution_count": 144,
   "id": "1e0b5df1",
   "metadata": {},
   "outputs": [
    {
     "name": "stderr",
     "output_type": "stream",
     "text": [
      "100%|█████████████████████████████████████| 1000/1000 [1:17:29<00:00,  4.65s/it]"
     ]
    },
    {
     "name": "stdout",
     "output_type": "stream",
     "text": [
      "power: 29.5%\n"
     ]
    },
    {
     "name": "stderr",
     "output_type": "stream",
     "text": [
      "\n"
     ]
    }
   ],
   "source": [
    "# 1%\n",
    "\n",
    "correctness = []\n",
    "values = []\n",
    "\n",
    "for i in tqdm(range(1000), position=0, leave=True): # в дз используем 1000 итераций \n",
    "    \n",
    "    new_df = groups_splitter(week2.copy(), columns=['user_id', 'total_dur', 'group'], user_salt=salt_generator()).drop_duplicates()\n",
    "\n",
    "    \n",
    "    vec_a = new_df[(new_df['group'] == 'A')]['total_dur']\n",
    "    vec_b = new_df[(new_df['group'] == 'B')]['total_dur']\n",
    "    \n",
    "    #bootstrap\n",
    "    sample_a_mean = calc_bootstrap_mean(vec_a, size=1000) # на бутстрэпе считаем средние для вектора\n",
    "    sample_b_mean = calc_bootstrap_mean(vec_b, size=1000) * 1.01\n",
    "    values.append(sample_a_mean - sample_b_mean)\n",
    "    \n",
    "    left_side, right_side = np.percentile(sample_a_mean - sample_b_mean, \n",
    "                                                  [100 * 0.05 / 2., 100 * (1 - 0.05 / 2.)]) # считаем 95% доверительный интервал для разницы средних\n",
    "    \n",
    "    correctness.append(not left_side <= 0 <= right_side)\n",
    "    \n",
    "    test_correctness = collections.Counter(correctness)\n",
    "    \n",
    "print(f'power: {test_correctness[1]/(test_correctness[1] + test_correctness[0])*100}%')"
   ]
  },
  {
   "cell_type": "code",
   "execution_count": 145,
   "id": "93f65998",
   "metadata": {},
   "outputs": [
    {
     "name": "stderr",
     "output_type": "stream",
     "text": [
      "100%|█████████████████████████████████████| 1000/1000 [1:08:34<00:00,  4.11s/it]"
     ]
    },
    {
     "name": "stdout",
     "output_type": "stream",
     "text": [
      "power: 98.8%\n"
     ]
    },
    {
     "name": "stderr",
     "output_type": "stream",
     "text": [
      "\n"
     ]
    }
   ],
   "source": [
    "# 3%\n",
    "\n",
    "correctness = []\n",
    "values = []\n",
    "\n",
    "for i in tqdm(range(1000),  position=0, leave=True): # в дз используем 1000 итераций \n",
    "    \n",
    "    new_df = groups_splitter(week2.copy(), columns=['user_id', 'total_dur', 'group'], user_salt=salt_generator()).drop_duplicates()\n",
    "\n",
    "    \n",
    "    vec_a = new_df[(new_df['group'] == 'A')]['total_dur']\n",
    "    vec_b = new_df[(new_df['group'] == 'B')]['total_dur']\n",
    "    \n",
    "    #bootstrap\n",
    "    sample_a_mean = calc_bootstrap_mean(vec_a, size=1000) # на бутстрэпе считаем средние для вектора\n",
    "    sample_b_mean = calc_bootstrap_mean(vec_b, size=1000) * 1.03\n",
    "    values.append(sample_a_mean - sample_b_mean)\n",
    "    \n",
    "    left_side, right_side = np.percentile(sample_a_mean - sample_b_mean, \n",
    "                                                  [100 * 0.05 / 2., 100 * (1 - 0.05 / 2.)]) # считаем 95% доверительный интервал для разницы средних\n",
    "    \n",
    "    correctness.append(not left_side <= 0 <= right_side)\n",
    "    \n",
    "    test_correctness = collections.Counter(correctness)\n",
    "    \n",
    "print(f'power: {test_correctness[1]/(test_correctness[1] + test_correctness[0])*100}%')"
   ]
  },
  {
   "cell_type": "code",
   "execution_count": 146,
   "id": "79ac7962",
   "metadata": {},
   "outputs": [
    {
     "name": "stderr",
     "output_type": "stream",
     "text": [
      "100%|█████████████████████████████████████████| 100/100 [06:53<00:00,  4.14s/it]"
     ]
    },
    {
     "name": "stdout",
     "output_type": "stream",
     "text": [
      "power: 100.0%\n"
     ]
    },
    {
     "name": "stderr",
     "output_type": "stream",
     "text": [
      "\n"
     ]
    }
   ],
   "source": [
    "# 5%\n",
    "\n",
    "correctness = []\n",
    "values = []\n",
    "\n",
    "for i in tqdm(range(100),  position=0, leave=True): # в дз используем 1000 итераций \n",
    "    \n",
    "    new_df = groups_splitter(week2.copy(), columns=['user_id', 'total_dur', 'group'], user_salt=salt_generator()).drop_duplicates()\n",
    "\n",
    "    \n",
    "    vec_a = new_df[(new_df['group'] == 'A')]['total_dur']\n",
    "    vec_b = new_df[(new_df['group'] == 'B')]['total_dur']\n",
    "    \n",
    "    #bootstrap\n",
    "    sample_a_mean = calc_bootstrap_mean(vec_a, size=1000) # на бутстрэпе считаем средние для вектора\n",
    "    sample_b_mean = calc_bootstrap_mean(vec_b, size=1000) * 1.05\n",
    "    values.append(sample_a_mean - sample_b_mean)\n",
    "    \n",
    "    left_side, right_side = np.percentile(sample_a_mean - sample_b_mean, \n",
    "                                                  [100 * 0.05 / 2., 100 * (1 - 0.05 / 2.)]) # считаем 95% доверительный интервал для разницы средних\n",
    "    \n",
    "    correctness.append(not left_side <= 0 <= right_side)\n",
    "    \n",
    "    test_correctness = collections.Counter(correctness)\n",
    "    \n",
    "print(f'power: {test_correctness[1]/(test_correctness[1] + test_correctness[0])*100}%')"
   ]
  },
  {
   "cell_type": "markdown",
   "id": "9fdf15bc",
   "metadata": {},
   "source": [
    "#### 4) Посчитайте MDE, который можно зафиксировать на 2х неделях. В качестве alpha и beta подставьте ваши вычисленные ошибки 1 и 2 рода. Учитывайте что у нас формула для MDE работает для t-test или z-test (1 балл)"
   ]
  },
  {
   "cell_type": "code",
   "execution_count": 147,
   "id": "a3069159",
   "metadata": {},
   "outputs": [],
   "source": [
    "def get_mde(metric_vec, alpha=0.05, beta=0.2):\n",
    "    \n",
    "    metric_mean, metric_std, metric_n = metric_vec.mean(), metric_vec.std(), metric_vec.count()\n",
    "    \n",
    "    z_alpha = norm.ppf(1 - (alpha / 2), loc=0, scale=1)\n",
    "    z_beta = norm.ppf(1 - beta, loc=0, scale=1)\n",
    "    \n",
    "    mde = (z_alpha + z_beta)*metric_std / np.sqrt(metric_n)\n",
    "    \n",
    "    return mde*100/metric_mean"
   ]
  },
  {
   "cell_type": "code",
   "execution_count": 148,
   "id": "4b762076",
   "metadata": {
    "scrolled": true
   },
   "outputs": [
    {
     "data": {
      "text/plain": [
       "0.9604673863892595"
      ]
     },
     "execution_count": 148,
     "metadata": {},
     "output_type": "execute_result"
    }
   ],
   "source": [
    "get_mde(week2['total_dur'])"
   ]
  },
  {
   "cell_type": "markdown",
   "id": "e773ce0d",
   "metadata": {},
   "source": [
    "#### 1) Представим что у нас прошел тест, используем те же самые данные за 2 недели\n",
    "\n",
    "#### 2) Занулите для всех пользователей total_dur, у которых total_dur < 500. Их НЕ УБИРАЕМ, а просто обрабатываем эти значения, принимая за нулевые, но пользователей также учитываем в эксперименте (0.5 балла)"
   ]
  },
  {
   "cell_type": "code",
   "execution_count": 50,
   "id": "fc1ae4a2",
   "metadata": {},
   "outputs": [],
   "source": [
    "week2_2 = week2.copy()"
   ]
  },
  {
   "cell_type": "code",
   "execution_count": 51,
   "id": "6cc7e72f",
   "metadata": {
    "scrolled": false
   },
   "outputs": [],
   "source": [
    "week2_2['total_dur'] = (week2['total_dur'] > 500) * week2['total_dur']"
   ]
  },
  {
   "cell_type": "markdown",
   "id": "978a484a",
   "metadata": {},
   "source": [
    "#### 3) Разбейте их самостоятельно на две равные группы, используйте функцию groups_splitter и соль = 'kiontestmodel20210805' (0.5 балла)"
   ]
  },
  {
   "cell_type": "code",
   "execution_count": 52,
   "id": "683966be",
   "metadata": {},
   "outputs": [],
   "source": [
    "new_df = groups_splitter(week2_2.copy(), columns=['user_id', 'total_dur', 'group'], \n",
    "                         user_salt='kiontestmodel20210805').drop_duplicates()\n",
    "\n",
    "\n",
    "vec_a = new_df[(new_df['group'] == 'A')]['total_dur']\n",
    "vec_b = new_df[(new_df['group'] == 'B')]['total_dur']"
   ]
  },
  {
   "cell_type": "markdown",
   "id": "a824ae3c",
   "metadata": {},
   "source": [
    "#### 4) Оказалось, что модель в группе В показала себя лучше, чем в группе А на 2.5%, причем эффект распространился неравномерно и преимущественно на 10% самых смотрящих пользователей, докиньте такой эффект самостоятельно. Нужно метрику total_dur увеличить на 2.5% для 10% пользователей с самым продолжительным смотрением. (1 балл)"
   ]
  },
  {
   "cell_type": "code",
   "execution_count": 53,
   "id": "ad178fec",
   "metadata": {},
   "outputs": [],
   "source": [
    "tqdm.pandas()"
   ]
  },
  {
   "cell_type": "code",
   "execution_count": 54,
   "id": "da5edd0a",
   "metadata": {
    "scrolled": false
   },
   "outputs": [],
   "source": [
    "q = np.quantile(vec_b, 0.9)"
   ]
  },
  {
   "cell_type": "code",
   "execution_count": 55,
   "id": "9c5c0100",
   "metadata": {
    "scrolled": true
   },
   "outputs": [
    {
     "name": "stderr",
     "output_type": "stream",
     "text": [
      "100%|██████████████████████████████| 130863/130863 [00:00<00:00, 1006211.29it/s]\n"
     ]
    }
   ],
   "source": [
    "vec_b = vec_b.progress_apply(lambda x: x*1.1 if x > q else x)"
   ]
  },
  {
   "cell_type": "markdown",
   "id": "0a09ef25",
   "metadata": {},
   "source": [
    "#### 5) Посчитайте результат такого теста и сделайте выводы (2 балла)"
   ]
  },
  {
   "cell_type": "code",
   "execution_count": 56,
   "id": "776ba64c",
   "metadata": {
    "scrolled": true
   },
   "outputs": [
    {
     "name": "stdout",
     "output_type": "stream",
     "text": [
      "True\n"
     ]
    }
   ],
   "source": [
    "sample_a_mean = calc_bootstrap_mean(vec_a, size=1000) # на бутстрэпе считаем средние для вектора\n",
    "sample_b_mean = calc_bootstrap_mean(vec_b, size=1000) \n",
    "diff = sample_a_mean - sample_b_mean\n",
    "\n",
    "left_side, right_side = np.percentile(sample_a_mean - sample_b_mean, \n",
    "                                              [100 * 0.05 / 2., 100 * (1 - 0.05 / 2.)]) # считаем 95% доверительный интервал для разницы средних\n",
    "\n",
    "print(not left_side <= 0 <= right_side)\n",
    "\n"
   ]
  },
  {
   "cell_type": "code",
   "execution_count": 57,
   "id": "16ee46f7",
   "metadata": {},
   "outputs": [
    {
     "data": {
      "text/plain": [
       "0.0"
      ]
     },
     "execution_count": 57,
     "metadata": {},
     "output_type": "execute_result"
    }
   ],
   "source": [
    "get_p_value(diff)"
   ]
  },
  {
   "cell_type": "code",
   "execution_count": 60,
   "id": "2a5a8983",
   "metadata": {},
   "outputs": [
    {
     "data": {
      "text/plain": [
       "1.0546492333055315"
      ]
     },
     "execution_count": 60,
     "metadata": {},
     "output_type": "execute_result"
    }
   ],
   "source": [
    "np.mean(vec_b) / np.mean(vec_a)"
   ]
  },
  {
   "cell_type": "code",
   "execution_count": 37,
   "id": "0e3a8947",
   "metadata": {},
   "outputs": [
    {
     "data": {
      "text/plain": [
       "(-1094.8699507655865, -625.885871872028)"
      ]
     },
     "execution_count": 37,
     "metadata": {},
     "output_type": "execute_result"
    }
   ],
   "source": [
    "left_side, right_side "
   ]
  },
  {
   "cell_type": "markdown",
   "id": "eb9524bb",
   "metadata": {},
   "source": [
    "Вывод:\n",
    "\n",
    "Посчитала MDE на двух неделях ~0.96 \n",
    "\n",
    "В группе Б среднее время просмотра увеличилось статистически значимо.\n",
    "\n",
    "P-value < 0.05\n",
    "\n",
    "\n",
    "95% доверительный интервал не содержит ноль"
   ]
  }
 ],
 "metadata": {
  "kernelspec": {
   "display_name": "Python 3 (ipykernel)",
   "language": "python",
   "name": "python3"
  },
  "language_info": {
   "codemirror_mode": {
    "name": "ipython",
    "version": 3
   },
   "file_extension": ".py",
   "mimetype": "text/x-python",
   "name": "python",
   "nbconvert_exporter": "python",
   "pygments_lexer": "ipython3",
   "version": "3.9.12"
  }
 },
 "nbformat": 4,
 "nbformat_minor": 5
}
